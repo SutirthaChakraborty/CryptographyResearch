{
  "nbformat": 4,
  "nbformat_minor": 0,
  "metadata": {
    "colab": {
      "name": "CryptoCode2.ipynb",
      "provenance": [],
      "collapsed_sections": [
        "fkfcws1mjDEB",
        "zUcKw0VPjmUt",
        "_jbdrm1lh7u9"
      ],
      "toc_visible": true
    },
    "kernelspec": {
      "name": "python3",
      "display_name": "Python 3"
    },
    "widgets": {
      "application/vnd.jupyter.widget-state+json": {
        "966a89f4f72b43c99455143c3b0244ee": {
          "model_module": "@jupyter-widgets/controls",
          "model_name": "DropdownModel",
          "state": {
            "_options_labels": [
              "MD5",
              "SHA256",
              "SHA1",
              "SHA512"
            ],
            "_view_name": "DropdownView",
            "style": "IPY_MODEL_6f07660486634e8bb96c3edf256bbadd",
            "_dom_classes": [],
            "description": "Hashing:",
            "_model_name": "DropdownModel",
            "index": 0,
            "_view_module": "@jupyter-widgets/controls",
            "_model_module_version": "1.5.0",
            "_view_count": null,
            "disabled": false,
            "_view_module_version": "1.5.0",
            "description_tooltip": null,
            "_model_module": "@jupyter-widgets/controls",
            "layout": "IPY_MODEL_b5c661e97b944b30b0d05c53e1c3daed"
          }
        },
        "6f07660486634e8bb96c3edf256bbadd": {
          "model_module": "@jupyter-widgets/controls",
          "model_name": "DescriptionStyleModel",
          "state": {
            "_view_name": "StyleView",
            "_model_name": "DescriptionStyleModel",
            "description_width": "",
            "_view_module": "@jupyter-widgets/base",
            "_model_module_version": "1.5.0",
            "_view_count": null,
            "_view_module_version": "1.2.0",
            "_model_module": "@jupyter-widgets/controls"
          }
        },
        "b5c661e97b944b30b0d05c53e1c3daed": {
          "model_module": "@jupyter-widgets/base",
          "model_name": "LayoutModel",
          "state": {
            "_view_name": "LayoutView",
            "grid_template_rows": null,
            "right": null,
            "justify_content": null,
            "_view_module": "@jupyter-widgets/base",
            "overflow": null,
            "_model_module_version": "1.2.0",
            "_view_count": null,
            "flex_flow": null,
            "width": null,
            "min_width": null,
            "border": null,
            "align_items": null,
            "bottom": null,
            "_model_module": "@jupyter-widgets/base",
            "top": null,
            "grid_column": null,
            "overflow_y": null,
            "overflow_x": null,
            "grid_auto_flow": null,
            "grid_area": null,
            "grid_template_columns": null,
            "flex": null,
            "_model_name": "LayoutModel",
            "justify_items": null,
            "grid_row": null,
            "max_height": null,
            "align_content": null,
            "visibility": null,
            "align_self": null,
            "height": null,
            "min_height": null,
            "padding": null,
            "grid_auto_rows": null,
            "grid_gap": null,
            "max_width": null,
            "order": null,
            "_view_module_version": "1.2.0",
            "grid_template_areas": null,
            "object_position": null,
            "object_fit": null,
            "grid_auto_columns": null,
            "margin": null,
            "display": null,
            "left": null
          }
        },
        "7e71e433880b45fead1ab9971f460ca8": {
          "model_module": "@jupyter-widgets/controls",
          "model_name": "DropdownModel",
          "state": {
            "_options_labels": [
              "MD5",
              "SHA256",
              "SHA1",
              "SHA512"
            ],
            "_view_name": "DropdownView",
            "style": "IPY_MODEL_9ce480839db3468cb42d02a070b3d357",
            "_dom_classes": [],
            "description": "Hashing:",
            "_model_name": "DropdownModel",
            "index": 0,
            "_view_module": "@jupyter-widgets/controls",
            "_model_module_version": "1.5.0",
            "_view_count": null,
            "disabled": false,
            "_view_module_version": "1.5.0",
            "description_tooltip": null,
            "_model_module": "@jupyter-widgets/controls",
            "layout": "IPY_MODEL_c4236ca06e014ed1b116075a80e543ea"
          }
        },
        "9ce480839db3468cb42d02a070b3d357": {
          "model_module": "@jupyter-widgets/controls",
          "model_name": "DescriptionStyleModel",
          "state": {
            "_view_name": "StyleView",
            "_model_name": "DescriptionStyleModel",
            "description_width": "",
            "_view_module": "@jupyter-widgets/base",
            "_model_module_version": "1.5.0",
            "_view_count": null,
            "_view_module_version": "1.2.0",
            "_model_module": "@jupyter-widgets/controls"
          }
        },
        "c4236ca06e014ed1b116075a80e543ea": {
          "model_module": "@jupyter-widgets/base",
          "model_name": "LayoutModel",
          "state": {
            "_view_name": "LayoutView",
            "grid_template_rows": null,
            "right": null,
            "justify_content": null,
            "_view_module": "@jupyter-widgets/base",
            "overflow": null,
            "_model_module_version": "1.2.0",
            "_view_count": null,
            "flex_flow": null,
            "width": null,
            "min_width": null,
            "border": null,
            "align_items": null,
            "bottom": null,
            "_model_module": "@jupyter-widgets/base",
            "top": null,
            "grid_column": null,
            "overflow_y": null,
            "overflow_x": null,
            "grid_auto_flow": null,
            "grid_area": null,
            "grid_template_columns": null,
            "flex": null,
            "_model_name": "LayoutModel",
            "justify_items": null,
            "grid_row": null,
            "max_height": null,
            "align_content": null,
            "visibility": null,
            "align_self": null,
            "height": null,
            "min_height": null,
            "padding": null,
            "grid_auto_rows": null,
            "grid_gap": null,
            "max_width": null,
            "order": null,
            "_view_module_version": "1.2.0",
            "grid_template_areas": null,
            "object_position": null,
            "object_fit": null,
            "grid_auto_columns": null,
            "margin": null,
            "display": null,
            "left": null
          }
        }
      }
    }
  },
  "cells": [
    {
      "cell_type": "code",
      "metadata": {
        "id": "Q480c7cKAah7",
        "outputId": "cbd0841a-97b9-48d7-8000-9eea11b32143",
        "colab": {
          "base_uri": "https://localhost:8080/"
        }
      },
      "source": [
        "!rm -rf /content/CryptographyResearch\n",
        "!git clone https://github.com/SutirthaChakraborty/CryptographyResearch.git\n",
        "!pip install pycrypto\n",
        "!pip install pycryptodome"
      ],
      "execution_count": null,
      "outputs": [
        {
          "output_type": "stream",
          "text": [
            "Cloning into 'CryptographyResearch'...\n",
            "remote: Enumerating objects: 26, done.\u001b[K\n",
            "remote: Counting objects: 100% (26/26), done.\u001b[K\n",
            "remote: Compressing objects: 100% (21/21), done.\u001b[K\n",
            "remote: Total 26 (delta 8), reused 12 (delta 0), pack-reused 0\u001b[K\n",
            "Unpacking objects: 100% (26/26), done.\n",
            "Requirement already satisfied: pycrypto in /usr/local/lib/python3.6/dist-packages (2.6.1)\n",
            "Requirement already satisfied: pycryptodome in /usr/local/lib/python3.6/dist-packages (3.9.9)\n"
          ],
          "name": "stdout"
        }
      ]
    },
    {
      "cell_type": "markdown",
      "metadata": {
        "id": "fkfcws1mjDEB"
      },
      "source": [
        "# **Importing Libraries**"
      ]
    },
    {
      "cell_type": "code",
      "metadata": {
        "id": "QYyV8AOtZnta"
      },
      "source": [
        "import ipywidgets as widgets\n",
        "from IPython.display import display\n",
        "from Crypto.Cipher import XOR\n",
        "\n",
        "import hashlib   # Contains all the hash function\n",
        "import base64   "
      ],
      "execution_count": null,
      "outputs": []
    },
    {
      "cell_type": "markdown",
      "metadata": {
        "id": "zUcKw0VPjmUt"
      },
      "source": [
        "# **Setup Steps**\n",
        "\n",
        "1.   Selecting the .txt file\n",
        "2.   Setting a 4 digit PIN\n",
        "3.   Reading the .txt file\n",
        "\n"
      ]
    },
    {
      "cell_type": "code",
      "metadata": {
        "id": "Dp8_WzLxTO70",
        "outputId": "08018939-9c90-4237-9279-6709e0927706",
        "colab": {
          "base_uri": "https://localhost:8080/"
        }
      },
      "source": [
        "# Sample Path - '/content/CryptographyResearch/Data/Test File 1.txt' \n",
        "path = str(input(\"Enter File Path Please :: \")) \n",
        "secretKey = str(input(\"Enter KEY Please :: \")) \n",
        "with open(path,'r') as file:\n",
        "    msg = file.read()"
      ],
      "execution_count": null,
      "outputs": [
        {
          "output_type": "stream",
          "text": [
            "Enter File Path Please :: /content/CryptographyResearch/Data/Test File 1.txt\n",
            "Enter KEY Please :: 3456\n"
          ],
          "name": "stdout"
        }
      ]
    },
    {
      "cell_type": "code",
      "metadata": {
        "id": "99BvCHMUTpGp"
      },
      "source": [
        "def encrypt(key, plaintext):\n",
        "  cipher = XOR.new(key)\n",
        "  return base64.b64encode(cipher.encrypt(plaintext))\n",
        "\n",
        "def decrypt(key, ciphertext):\n",
        "  cipher = XOR.new(key)\n",
        "  return cipher.decrypt(base64.b64decode(ciphertext))"
      ],
      "execution_count": null,
      "outputs": []
    },
    {
      "cell_type": "markdown",
      "metadata": {
        "id": "34-rkxNqi4rt"
      },
      "source": [
        "**Select the hashing algorithm**"
      ]
    },
    {
      "cell_type": "code",
      "metadata": {
        "id": "F7TjYovIZXu-",
        "cellView": "form",
        "outputId": "0b3fe52d-5bf9-4e11-b33d-035f9cfc3c49",
        "colab": {
          "base_uri": "https://localhost:8080/",
          "height": 49,
          "referenced_widgets": [
            "966a89f4f72b43c99455143c3b0244ee",
            "6f07660486634e8bb96c3edf256bbadd",
            "b5c661e97b944b30b0d05c53e1c3daed"
          ]
        }
      },
      "source": [
        "#@title Select the hashing Algorithm\n",
        "w = widgets.Dropdown(\n",
        "    options=[('MD5',0), ('SHA256',1), ('SHA1',2),('SHA512',3)],\n",
        "    value=0,\n",
        "    description='Hashing:')\n",
        "algo=0 \n",
        "\n",
        "def on_change(change):\n",
        "    global algo\n",
        "    if change['type'] == 'change' and change['name'] == 'value':\n",
        "        algo=int(change['new'])\n",
        "\n",
        "w.observe(on_change)\n",
        "display(w)"
      ],
      "execution_count": null,
      "outputs": [
        {
          "output_type": "display_data",
          "data": {
            "application/vnd.jupyter.widget-view+json": {
              "model_id": "966a89f4f72b43c99455143c3b0244ee",
              "version_minor": 0,
              "version_major": 2
            },
            "text/plain": [
              "Dropdown(description='Hashing:', options=(('MD5', 0), ('SHA256', 1), ('SHA1', 2), ('SHA512', 3)), value=0)"
            ]
          },
          "metadata": {
            "tags": []
          }
        }
      ]
    },
    {
      "cell_type": "code",
      "metadata": {
        "id": "EaqkFV1kVhiI"
      },
      "source": [
        "hash_algo= [hashlib.md5,hashlib.sha256, hashlib.sha1 , hashlib.sha512]"
      ],
      "execution_count": null,
      "outputs": []
    },
    {
      "cell_type": "code",
      "metadata": {
        "id": "rRiWAousT9VU",
        "outputId": "e9e44847-7bb3-49af-e3dd-2b20f5ac4ffd",
        "colab": {
          "base_uri": "https://localhost:8080/"
        }
      },
      "source": [
        "if(algo==0):\n",
        "    print(\"Using MD5 hash\")\n",
        "    hash_object = hashlib.md5(encrypt(msg,secretKey))\n",
        "if(algo==1):\n",
        "    print(\"Using SHA256 hash\")\n",
        "    hash_object = hashlib.sha256(encrypt(msg,secretKey))\n",
        "if(algo==2):\n",
        "    print(\"Using SHA1 hash\")\n",
        "    hash_object = hashlib.sha1(encrypt(msg,secretKey))\n",
        "if(algo==3):\n",
        "    print(\"Using SHA512 hash\")\n",
        "    hash_object = hashlib.sha512(encrypt(msg,secretKey))\n",
        "\n",
        "secret_hash_original = hash_object.hexdigest()\n",
        "print(secret_hash_original)"
      ],
      "execution_count": null,
      "outputs": [
        {
          "output_type": "stream",
          "text": [
            "Using MD5 hash\n",
            "e6a80ac12969de19e0d8431f0f50cfb3\n"
          ],
          "name": "stdout"
        }
      ]
    },
    {
      "cell_type": "markdown",
      "metadata": {
        "id": "_jbdrm1lh7u9"
      },
      "source": [
        "# **Applying Brute Force to Search PIN**"
      ]
    },
    {
      "cell_type": "markdown",
      "metadata": {
        "id": "N5R0ogOUiIQV"
      },
      "source": [
        "**Select the hashing algorithm**"
      ]
    },
    {
      "cell_type": "code",
      "metadata": {
        "id": "QP-KzeMZhxbN",
        "outputId": "cdba727a-db68-4429-8261-515869abd7cb",
        "colab": {
          "base_uri": "https://localhost:8080/",
          "height": 49,
          "referenced_widgets": [
            "7e71e433880b45fead1ab9971f460ca8",
            "9ce480839db3468cb42d02a070b3d357",
            "c4236ca06e014ed1b116075a80e543ea"
          ]
        }
      },
      "source": [
        "#@title Select the hashing Algorithm\n",
        " \n",
        "w = widgets.Dropdown(\n",
        "    options=[('MD5',0), ('SHA256',1), ('SHA1',2),('SHA512',3)],\n",
        "    value=0,\n",
        "    description='Hashing:')\n",
        "Checkalgo=0 \n",
        "\n",
        "def on_change(change):\n",
        "    global Checkalgo\n",
        "    if change['type'] == 'change' and change['name'] == 'value':\n",
        "        Checkalgo=int(change['new'])\n",
        "\n",
        "w.observe(on_change)\n",
        "display(w)"
      ],
      "execution_count": null,
      "outputs": [
        {
          "output_type": "display_data",
          "data": {
            "application/vnd.jupyter.widget-view+json": {
              "model_id": "7e71e433880b45fead1ab9971f460ca8",
              "version_minor": 0,
              "version_major": 2
            },
            "text/plain": [
              "Dropdown(description='Hashing:', options=(('MD5', 0), ('SHA256', 1), ('SHA1', 2), ('SHA512', 3)), value=0)"
            ]
          },
          "metadata": {
            "tags": []
          }
        }
      ]
    },
    {
      "cell_type": "markdown",
      "metadata": {
        "id": "udS_Rb0aiRDe"
      },
      "source": [
        "**Selecting the file**"
      ]
    },
    {
      "cell_type": "code",
      "metadata": {
        "id": "J2ifd2BzUiNU",
        "outputId": "a10edaa8-55f1-44d1-dd4f-5d87807214c9",
        "colab": {
          "base_uri": "https://localhost:8080/"
        }
      },
      "source": [
        "# Sample Path - '/content/CryptographyResearch/Data/Test File 1.txt' \n",
        "path = str(input(\"Enter File Path Please :: \")) \n",
        "with open(path,'r') as file:\n",
        "    msg = file.read()"
      ],
      "execution_count": null,
      "outputs": [
        {
          "output_type": "stream",
          "text": [
            "Enter File Path Please :: /content/CryptographyResearch/Data/Test File 1.txt\n"
          ],
          "name": "stdout"
        }
      ]
    },
    {
      "cell_type": "markdown",
      "metadata": {
        "id": "uCnmDAkbiegD"
      },
      "source": [
        "**Select the range for the search**"
      ]
    },
    {
      "cell_type": "code",
      "metadata": {
        "id": "1StfrA3kOdD-",
        "outputId": "edb138de-7177-4534-a1e7-8d25e052fa4b",
        "colab": {
          "base_uri": "https://localhost:8080/"
        }
      },
      "source": [
        "flag=0\n",
        "for i in range(1000,9999): \n",
        "    secretKey = bytes(str(i), encoding='utf-8')\n",
        "    if(Checkalgo==0):\n",
        "        hash_object = hashlib.md5(encrypt(msg,secretKey))\n",
        "    if(Checkalgo==1):\n",
        "        hash_object = hashlib.sha256(encrypt(msg,secretKey))\n",
        "    if(Checkalgo==2):\n",
        "        hash_object = hashlib.sha1(encrypt(msg,secretKey))\n",
        "    if(Checkalgo==3):\n",
        "        hash_object = hashlib.sha512(encrypt(msg,secretKey))\n",
        "    secrethash = hash_object.hexdigest()\n",
        "\n",
        "    if(secret_hash_original==secrethash):\n",
        "        print( 'The Key was : ',secretKey)\n",
        "        flag=1\n",
        "        break\n",
        "if (flag == 0):\n",
        "    print(\"Check the file or try with other Hash Algorithm\")"
      ],
      "execution_count": null,
      "outputs": [
        {
          "output_type": "stream",
          "text": [
            "The Key was :  b'3456'\n"
          ],
          "name": "stdout"
        }
      ]
    }
  ]
}