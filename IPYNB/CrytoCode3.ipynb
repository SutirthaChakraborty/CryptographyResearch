{
  "nbformat": 4,
  "nbformat_minor": 0,
  "metadata": {
    "colab": {
      "name": "CrytoCode3.ipynb",
      "provenance": [],
      "collapsed_sections": []
    },
    "kernelspec": {
      "name": "python3",
      "display_name": "Python 3"
    }
  },
  "cells": [
    {
      "cell_type": "code",
      "metadata": {
        "id": "HOj0pVr8BpGL",
        "outputId": "a3eba6cb-a3ad-4d99-8225-3e6c246e51c6",
        "colab": {
          "base_uri": "https://localhost:8080/"
        }
      },
      "source": [
        "!pip3 install pycrypto"
      ],
      "execution_count": 115,
      "outputs": [
        {
          "output_type": "stream",
          "text": [
            "Requirement already satisfied: pycrypto in /usr/local/lib/python3.6/dist-packages (2.6.1)\n"
          ],
          "name": "stdout"
        }
      ]
    },
    {
      "cell_type": "code",
      "metadata": {
        "id": "BV-6-oCp-Nk8"
      },
      "source": [
        "import rsa"
      ],
      "execution_count": 117,
      "outputs": []
    },
    {
      "cell_type": "markdown",
      "metadata": {
        "id": "EROQfNNXyHEP"
      },
      "source": [
        "AES Functions\n",
        "\n",
        "\n",
        "![image.png](data:image/png;base64,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)"
      ]
    },
    {
      "cell_type": "markdown",
      "metadata": {
        "id": "1KTazdL1yVXJ"
      },
      "source": [
        ""
      ]
    },
    {
      "cell_type": "code",
      "metadata": {
        "id": "JDtr6lpCBmCP"
      },
      "source": [
        "from Crypto.Util.Padding import pad, unpad\n",
        "from Crypto.Cipher import AES\n",
        "BLOCK_SIZE = 32 # Bytes\n",
        "\n",
        "key = 'abcdefghijklmnop'  # We can change the key for AES  (Must be 16 digit)\n",
        "cipher = AES.new(key.encode('utf8'), AES.MODE_ECB)\n",
        "decipher = AES.new(key.encode('utf8'), AES.MODE_ECB)\n",
        "\n",
        "def AES_encrypt(msg):\n",
        "    msg = cipher.encrypt(pad(msg, BLOCK_SIZE))\n",
        "    return msg.hex()\n",
        "\n",
        "def AES_decrypt(msg):\n",
        "    msg_dec = decipher.decrypt(msg)\n",
        "    return (unpad(msg_dec, BLOCK_SIZE))\n"
      ],
      "execution_count": 116,
      "outputs": []
    },
    {
      "cell_type": "markdown",
      "metadata": {
        "id": "6uEwADAByZRb"
      },
      "source": [
        "# **KeyGen Functions**\n",
        "1. Writing public and private in PEM format\n",
        "[Privacy-Enhanced Mail](https://en.wikipedia.org/wiki/Privacy-Enhanced_Mail)"
      ]
    },
    {
      "cell_type": "code",
      "metadata": {
        "id": "cWr1e080iqWj"
      },
      "source": [
        "def writeKeys(public_key,private_key):\n",
        "    f = open('public_key.pem','wb')\n",
        "    f.write(public_key.save_pkcs1('PEM'))\n",
        "    f.close()\n",
        "    f = open('private_key.pem','wb')\n",
        "    f.write(private_key.save_pkcs1('PEM'))\n",
        "    f.close()"
      ],
      "execution_count": 118,
      "outputs": []
    },
    {
      "cell_type": "markdown",
      "metadata": {
        "id": "ZqKIrggXyyPS"
      },
      "source": [
        "**Function to Read Public Key**"
      ]
    },
    {
      "cell_type": "code",
      "metadata": {
        "id": "_g9UFJtvjEJW"
      },
      "source": [
        "def read_PublicKey():\n",
        "    f = open('public_key.pem','r')\n",
        "    public_key = rsa.PublicKey.load_pkcs1(f.read())\n",
        "    return public_key"
      ],
      "execution_count": 119,
      "outputs": []
    },
    {
      "cell_type": "markdown",
      "metadata": {
        "id": "d2DorsgJy7x_"
      },
      "source": [
        "**Function to Read Private Key**"
      ]
    },
    {
      "cell_type": "code",
      "metadata": {
        "id": "dpzOarLjjYuB"
      },
      "source": [
        "def read_PrivateKey():\n",
        "    f = open('private_key.pem','r')\n",
        "    private_key = rsa.PrivateKey.load_pkcs1(f.read())\n",
        "    return private_key"
      ],
      "execution_count": 120,
      "outputs": []
    },
    {
      "cell_type": "markdown",
      "metadata": {
        "id": "jCg2JWqr5LcK"
      },
      "source": [
        "**Create a private and public key**"
      ]
    },
    {
      "cell_type": "code",
      "metadata": {
        "id": "vS9q22ucj1Yr"
      },
      "source": [
        "def keyGen():\n",
        "    public_key, private_key = rsa.newkeys(1024)\n",
        "    writeKeys(public_key,private_key)\n",
        "\n",
        "keyGen()"
      ],
      "execution_count": 121,
      "outputs": []
    },
    {
      "cell_type": "markdown",
      "metadata": {
        "id": "4xOnDypo5WNm"
      },
      "source": [
        "**File Operations**\n",
        "1. Write Values to a file in binary format\n",
        "2. Read the file in binary format"
      ]
    },
    {
      "cell_type": "code",
      "metadata": {
        "id": "WqZ7oRZ6pmdg"
      },
      "source": [
        "def write_Value(value,filename):\n",
        "    f = open(filename, 'wb')\n",
        "    f.write(value)\n",
        "    f.close()\n",
        "\n",
        "def read_Value(filename):\n",
        "    with open(filename, \"rb\") as f:\n",
        "        byte = f.read ()\n",
        "        return byte\n",
        "        "
      ],
      "execution_count": 177,
      "outputs": []
    },
    {
      "cell_type": "markdown",
      "metadata": {
        "id": "JGifTWBUzHWm"
      },
      "source": [
        "# **Encapsulation**"
      ]
    },
    {
      "cell_type": "code",
      "metadata": {
        "id": "5eGHFwbLkytp",
        "outputId": "79617a61-df2f-4f45-9df9-e85c42a23b4d",
        "colab": {
          "base_uri": "https://localhost:8080/"
        }
      },
      "source": [
        "# • Get public key (n,e) from calling program\n",
        "public_key=read_PublicKey()\n",
        "\n",
        "# • Choose x ∈{1,2,3,4,..,n-1}\n",
        "# print(public_key.n)   # A large value\n",
        "x= bytes(input(\"Enter a Value for X :  \"), 'utf-8')\n",
        "\n",
        "# • C= RSA_encrypt(x)\n",
        "c = rsa.encrypt(x, public_key)\n",
        "\n",
        "# • k=H(x)     AES used here\n",
        "k= AES_encrypt(x)\n",
        "\n",
        "# • Output(k, c) - Have a getK and getC\n",
        "write_Value(c,\"c.txt\")\n",
        "print(\"C-Value Stored\")\n",
        "write_Value(k.encode(),\"k.txt\")\n",
        "print(\"K-Value Stored\")\n"
      ],
      "execution_count": 185,
      "outputs": [
        {
          "output_type": "stream",
          "text": [
            "Enter a Value for X :  1234\n",
            "C-Value Stored\n",
            "K-Value Stored\n"
          ],
          "name": "stdout"
        }
      ]
    },
    {
      "cell_type": "markdown",
      "metadata": {
        "id": "RKaESs-DzXZL"
      },
      "source": [
        "# **Decapsulation**"
      ]
    },
    {
      "cell_type": "code",
      "metadata": {
        "id": "aY5LhAKmnTBl",
        "outputId": "9c2c11cf-7f50-4541-8785-0b68fc10090f",
        "colab": {
          "base_uri": "https://localhost:8080/"
        }
      },
      "source": [
        "# • Get private key (n,d) from calling\n",
        "private_key=read_PrivateKey()\n",
        "\n",
        "# program\n",
        "# • Input (c)\n",
        "c= read_Value(\"c.txt\")\n",
        "\n",
        "# • x=RSA_decrypt(c)\n",
        "x = rsa.decrypt(c, private_key)\n",
        "\n",
        "# • k=H(x)\n",
        "k= AES_encrypt(x)\n",
        "\n",
        "# • Output k.\n",
        "print(k)\n",
        "\n",
        "# • Store k in a key file\n",
        "write_Value(k.encode(),\"k_new.txt\")"
      ],
      "execution_count": 188,
      "outputs": [
        {
          "output_type": "stream",
          "text": [
            "3fab0f5f0379f80c47723ac90c0aa4c95e525793f37568fe14caca8f5817def1\n"
          ],
          "name": "stdout"
        }
      ]
    },
    {
      "cell_type": "markdown",
      "metadata": {
        "id": "gE_jjWAUxjDa"
      },
      "source": [
        "# **Check if the two files (K-Values) are Equal or not**"
      ]
    },
    {
      "cell_type": "code",
      "metadata": {
        "id": "aI2atekbu-MV",
        "outputId": "60936478-147f-4fb6-eae7-85e870c08ddc",
        "colab": {
          "base_uri": "https://localhost:8080/"
        }
      },
      "source": [
        "import filecmp\n",
        "filecmp.cmp('k.txt', 'k_new.txt')"
      ],
      "execution_count": 187,
      "outputs": [
        {
          "output_type": "execute_result",
          "data": {
            "text/plain": [
              "True"
            ]
          },
          "metadata": {
            "tags": []
          },
          "execution_count": 187
        }
      ]
    }
  ]
}