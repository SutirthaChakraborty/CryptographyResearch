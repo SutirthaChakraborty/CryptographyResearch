{
  "nbformat": 4,
  "nbformat_minor": 0,
  "metadata": {
    "colab": {
      "name": "CryptoCode1.ipynb",
      "provenance": [],
      "collapsed_sections": [],
      "toc_visible": true
    },
    "kernelspec": {
      "name": "python3",
      "display_name": "Python 3"
    }
  },
  "cells": [
    {
      "cell_type": "markdown",
      "metadata": {
        "id": "aGJBWCIXDtq3"
      },
      "source": [
        "# **Setting up a Sample Environment.**\n",
        "1. Deleteing the Sample Data folder if Present.\n",
        "2. Downloading a sample folder (named ***Data***) from Github to for the Code simulation\n"
      ]
    },
    {
      "cell_type": "code",
      "metadata": {
        "id": "vxsl4Tc46jlm",
        "outputId": "353ad63b-39e1-42f1-e493-f9381ff9f8d0",
        "colab": {
          "base_uri": "https://localhost:8080/"
        }
      },
      "source": [
        "!rm -rf /content/CryptographyResearch\n",
        "!git clone https://github.com/SutirthaChakraborty/CryptographyResearch.git"
      ],
      "execution_count": null,
      "outputs": [
        {
          "output_type": "stream",
          "text": [
            "Cloning into 'CryptographyResearch'...\n",
            "remote: Enumerating objects: 15, done.\u001b[K\n",
            "remote: Counting objects: 100% (15/15), done.\u001b[K\n",
            "remote: Compressing objects: 100% (10/10), done.\u001b[K\n",
            "remote: Total 15 (delta 2), reused 13 (delta 0), pack-reused 0\u001b[K\n",
            "Unpacking objects: 100% (15/15), done.\n"
          ],
          "name": "stdout"
        }
      ]
    },
    {
      "cell_type": "markdown",
      "metadata": {
        "id": "mKdAiBW9Ep2m"
      },
      "source": [
        "Downloading  Python library pycryptodome\n",
        "Documentation - [pycryptodome](https://www.pycryptodome.org/en/latest/index.html)"
      ]
    },
    {
      "cell_type": "code",
      "metadata": {
        "id": "RVPVhgtv4_6O",
        "outputId": "16fc6621-9090-4b4f-d8bf-afb2d10c809f",
        "colab": {
          "base_uri": "https://localhost:8080/"
        }
      },
      "source": [
        "!pip install pycryptodome"
      ],
      "execution_count": null,
      "outputs": [
        {
          "output_type": "stream",
          "text": [
            "Requirement already satisfied: pycryptodome in /usr/local/lib/python3.6/dist-packages (3.9.8)\n"
          ],
          "name": "stdout"
        }
      ]
    },
    {
      "cell_type": "markdown",
      "metadata": {
        "id": "uU9KA8rbFQ18"
      },
      "source": [
        "**Importing neccessary libraries**"
      ]
    },
    {
      "cell_type": "code",
      "metadata": {
        "id": "zFrS9AXADdeQ"
      },
      "source": [
        "from Crypto import Random     # not used here but can be used for random key generation\n",
        "from Crypto.Cipher import AES\n",
        "import os\n",
        "import os.path\n",
        "from os import listdir\n",
        "from os.path import isfile, join\n",
        "import time\n",
        "import glob"
      ],
      "execution_count": null,
      "outputs": []
    },
    {
      "cell_type": "markdown",
      "metadata": {
        "id": "SHk57gSfPUK5"
      },
      "source": [
        "**Encrypt Functions**\n",
        "\n",
        "*Steps:*\n",
        "1. open a file \n",
        "2. read the content \n",
        "3. Encrypt \n",
        "4. save the encrypted message into a file\n",
        "\n",
        "*File extension becomes .enc*"
      ]
    },
    {
      "cell_type": "code",
      "metadata": {
        "id": "rH-P9TCb_ZuW"
      },
      "source": [
        "def pad(s):\n",
        "    return s + b\"\\0\" * (AES.block_size - len(s) % AES.block_size)\n",
        "    \n",
        "def encrypt(message, key, key_size=256):\n",
        "    message = pad(message)\n",
        "    iv = Random.new().read(AES.block_size)\n",
        "    cipher = AES.new(key, AES.MODE_CBC, iv)\n",
        "    return iv + cipher.encrypt(message)\n",
        "\n",
        "def encrypt_file(file_name,key):\n",
        "    with open(file_name, 'rb') as fo:\n",
        "        plaintext = fo.read()\n",
        "    enc = encrypt(plaintext,key)\n",
        "    with open(file_name + \".enc\", 'wb') as fo:              # writing the enrypted file\n",
        "        fo.write(enc)\n",
        "    os.remove(file_name)           # removing the original file\n"
      ],
      "execution_count": null,
      "outputs": []
    },
    {
      "cell_type": "markdown",
      "metadata": {
        "id": "mUhpFk_FO6--"
      },
      "source": [
        "**Decrypt Functions**\n",
        "\n",
        "*Steps:*\n",
        "1. open a file \n",
        "2. read the content \n",
        "3. decrypt \n",
        "4. save the decrypted message into a file\n",
        "\n",
        "*File extension reverts*"
      ]
    },
    {
      "cell_type": "code",
      "metadata": {
        "id": "dlMdAKTKO5oG"
      },
      "source": [
        "def decrypt( ciphertext, key):\n",
        "    iv = ciphertext[:AES.block_size]\n",
        "    cipher = AES.new(key, AES.MODE_CBC, iv)\n",
        "    plaintext = cipher.decrypt(ciphertext[AES.block_size:])\n",
        "    return plaintext.rstrip(b\"\\0\")\n",
        "\n",
        "def decrypt_file(file_name,key):\n",
        "    with open(file_name, 'rb') as fo:\n",
        "        ciphertext = fo.read()\n",
        "    dec =decrypt(ciphertext, key)\n",
        "    with open(file_name[:-4], 'wb') as fo:\n",
        "        fo.write(dec)\n",
        "    os.remove(file_name)"
      ],
      "execution_count": null,
      "outputs": []
    },
    {
      "cell_type": "markdown",
      "metadata": {
        "id": "jRswQuDBQgOQ"
      },
      "source": [
        "**For all files in a folder**\n",
        "\n",
        "*Steps:*\n",
        "1. get list of all the files present in a folder \n",
        "2. Call encryption for each files\n",
        "3. Call Decryption for each files\n"
      ]
    },
    {
      "cell_type": "code",
      "metadata": {
        "id": "wip7FKYOAEfC"
      },
      "source": [
        "def getAllFiles():\n",
        "    mylist = [f for f in glob.glob(str(input(\"Enter Folder Path ::\"))+\"/*.*\")]\n",
        "    return mylist\n",
        "\n",
        "def encrypt_all_files(dirs,key):\n",
        "    for file_name in dirs:\n",
        "        encrypt_file(file_name,key)\n",
        "\n",
        "def decrypt_all_files(dirs,key):\n",
        "    for file_name in dirs:\n",
        "        decrypt_file(file_name,key)"
      ],
      "execution_count": null,
      "outputs": []
    },
    {
      "cell_type": "markdown",
      "metadata": {
        "id": "sX5KcRn6RMQR"
      },
      "source": [
        "*Generate a key, we can use random key generation of any other in Binary format*"
      ]
    },
    {
      "cell_type": "code",
      "metadata": {
        "id": "5FeZX0McC1qK"
      },
      "source": [
        "key = b'[EX\\xc8\\xd5\\xbfI{\\xa2$\\x05(\\xd5\\x18\\xbf\\xc0\\x85)\\x10nc\\x94\\x02)j\\xdf\\xcb\\xc4\\x94\\x9d(\\x9e'"
      ],
      "execution_count": null,
      "outputs": []
    },
    {
      "cell_type": "code",
      "metadata": {
        "id": "T4aB4aW0Rd0Y",
        "outputId": "592e3904-c0cb-4332-c8ff-3a1739a5f3f2",
        "colab": {
          "base_uri": "https://localhost:8080/"
        }
      },
      "source": [
        "# for simulation use the path name - /content/CryptographyResearch/Data\n",
        "encrypt_all_files(getAllFiles(),key)\n",
        "print(\"done\")   "
      ],
      "execution_count": null,
      "outputs": [
        {
          "output_type": "stream",
          "text": [
            "Enter Folder Path ::/content/CryptographyResearch/Data\n",
            "Enter Folder Path ::/content/CryptographyResearch/Data\n",
            "['/content/CryptographyResearch/Data/Test File 3.txt.enc.enc.enc.enc', '/content/CryptographyResearch/Data/Capture.PNG.enc.enc.enc.enc', '/content/CryptographyResearch/Data/Test File 4.txt.enc.enc.enc.enc', '/content/CryptographyResearch/Data/Test File 2.txt.enc.enc.enc.enc', '/content/CryptographyResearch/Data/Test File 1.txt.enc.enc.enc.enc', '/content/CryptographyResearch/Data/kuch baatyein track.mp3.enc.enc.enc.enc']\n",
            "done\n"
          ],
          "name": "stdout"
        }
      ]
    },
    {
      "cell_type": "code",
      "metadata": {
        "id": "kcUTGPZFC1zV",
        "outputId": "da6d428c-81ca-4ce5-de34-0952044ec04e",
        "colab": {
          "base_uri": "https://localhost:8080/"
        }
      },
      "source": [
        "# for simulation use the path name - /content/CryptographyResearch/Data\n",
        "decrypt_all_files(getAllFiles(),key)\n",
        "print(\"done\")   "
      ],
      "execution_count": null,
      "outputs": [
        {
          "output_type": "stream",
          "text": [
            "Enter Folder Path ::/content/CryptographyResearch/Data\n",
            "Enter Folder Path ::/content/CryptographyResearch/Data\n",
            "['/content/CryptographyResearch/Data/Capture.PNG', '/content/CryptographyResearch/Data/kuch baatyein track.mp3', '/content/CryptographyResearch/Data/Test File 4.txt', '/content/CryptographyResearch/Data/Test File 1.txt', '/content/CryptographyResearch/Data/Test File 2.txt', '/content/CryptographyResearch/Data/Test File 3.txt']\n",
            "done\n"
          ],
          "name": "stdout"
        }
      ]
    }
  ]
}